{
 "cells": [
  {
   "cell_type": "code",
   "execution_count": 29,
   "metadata": {},
   "outputs": [],
   "source": [
    "import labelbox as lb\n",
    "import os\n",
    "from uuid import uuid4\n",
    "\n",
    "from lb_scripts.lb_import_files import check_missed_data_rows, upload_data_row, create_ontology, get_global_ids, import_local_files\n",
    "\n",
    "from dotenv import load_dotenv, find_dotenv\n",
    "from pprint import pprint\n",
    "\n",
    "_=load_dotenv(find_dotenv())\n",
    "\n",
    "client = lb.Client()"
   ]
  },
  {
   "cell_type": "code",
   "execution_count": 3,
   "metadata": {},
   "outputs": [],
   "source": [
    "proj = client.get_projects(where=lb.Project.name == \"animal_ML\").get_one()\n",
    "if not proj:\n",
    "    proj = client.create_project(\n",
    "        name=\"animal_ML\",\n",
    "        media_type=lb.MediaType.Image\n",
    "        )"
   ]
  },
  {
   "cell_type": "code",
   "execution_count": 4,
   "metadata": {},
   "outputs": [],
   "source": [
    "dataset: lb.Dataset = client.get_datasets(where=lb.Dataset.name==\"animal_dataset\").get_one()\n",
    "\n",
    "if not dataset:\n",
    "    assets = import_local_files(\"raw-img\")\n",
    "    dataset = client.create_dataset(\n",
    "            name=\"animal_dataset\",\n",
    "            iam_integration=None\n",
    "            )\n",
    "    upload_data_row(assets, dataset, 1000)"
   ]
  },
  {
   "cell_type": "code",
   "execution_count": null,
   "metadata": {},
   "outputs": [],
   "source": [
    "check_missed_data_rows(dataset)"
   ]
  },
  {
   "cell_type": "code",
   "execution_count": 41,
   "metadata": {},
   "outputs": [],
   "source": [
    "#create ontology if one does not exist if not return associated ontology\n",
    "ontology = create_ontology(\"raw-img\", \"animal_class\", client)\n",
    "\n",
    "#check if project has ontology attached\n",
    "if not proj.ontology() or proj.ontology().uid != ontology.uid:\n",
    "    proj.setup_editor(ontology)"
   ]
  },
  {
   "cell_type": "code",
   "execution_count": null,
   "metadata": {},
   "outputs": [],
   "source": [
    "#check if project has batch\n",
    "batches = proj.batches()\n",
    "    \n",
    "if not batches.get_one():\n",
    "    data_rows = get_global_ids(dataset)\n",
    "    proj.create_batch(name=\"main_batch\", data_rows=data_rows)"
   ]
  },
  {
   "cell_type": "code",
   "execution_count": 14,
   "metadata": {},
   "outputs": [],
   "source": [
    "#add global key to data row that was missing one\n",
    "data_row = client.get_data_row(\"clp7osdpk1yol070107jj29ke\")\n",
    "data_row.update(\n",
    "    global_key=str(uuid4())\n",
    ")"
   ]
  },
  {
   "cell_type": "code",
   "execution_count": 24,
   "metadata": {},
   "outputs": [
    {
     "name": "stdout",
     "output_type": "stream",
     "text": [
      "animal_class\n"
     ]
    },
    {
     "data": {
      "text/plain": [
       "[]"
      ]
     },
     "execution_count": 24,
     "metadata": {},
     "output_type": "execute_result"
    }
   ],
   "source": [
    "#adding custom metadata field to data row missing class\n",
    "mdo = client.get_data_row_metadata_ontology()\n",
    "enum_schema = mdo.fields_by_id[\"clp7eyhcj043p07zue0jiefah\"]\n",
    "metadata_payload = lb.DataRowMetadata(\n",
    "    global_key=data_row.global_key,\n",
    "    fields=[lb.DataRowMetadataField(\n",
    "        name=enum_schema.name,\n",
    "        value=\"spider\"\n",
    "    )]\n",
    ")\n",
    "mdo.bulk_upsert([metadata_payload])"
   ]
  },
  {
   "cell_type": "code",
   "execution_count": 37,
   "metadata": {},
   "outputs": [],
   "source": [
    "export_json = dataset.export_v2(\n",
    "  params={\n",
    "  \"performance_details\": True,\n",
    "  \"label_details\": True,\n",
    "  \"metadata_fields\": True\n",
    "  }\n",
    ")\n",
    "\n",
    "export_json = export_json.result"
   ]
  },
  {
   "cell_type": "code",
   "execution_count": 38,
   "metadata": {},
   "outputs": [
    {
     "name": "stdout",
     "output_type": "stream",
     "text": [
      "{ 'data_row': { 'external_id': './raw-img/ragno/OIP-_0YC0pbR0XIolgpTaswWRwHaFj.jpeg',\n",
      "                'global_key': '267977cc-84e4-4673-8165-9e159305e199',\n",
      "                'id': 'clp7fey2a0zqp0778b4vst8r9',\n",
      "                'row_data': 'https://storage.labelbox.com/cloordigw0091073kc6pohyab%2F91322050-f258-d298-051d-f40b955c9d66-OIP-_0YC0pbR0XIolgpTaswWRwHaFj.jpeg?Expires=1700667681839&KeyName=labelbox-assets-key-3&Signature=i1pRI8ti-fsVgL8biRx_LeLSx2o'},\n",
      "  'media_attributes': { 'exif_rotation': '1',\n",
      "                        'height': 225,\n",
      "                        'mime_type': 'image/jpeg',\n",
      "                        'width': 300},\n",
      "  'metadata_fields': [ { 'schema_id': 'clp7eyhcj043p07zue0jiefah',\n",
      "                         'schema_kind': 'CustomMetadataEnum',\n",
      "                         'schema_name': 'animal_class',\n",
      "                         'value': [ { 'schema_id': 'clp7eyhcj043z07zubnpq775e',\n",
      "                                      'schema_kind': 'CustomMetadataEnumOption',\n",
      "                                      'schema_name': 'spider'}]}]}\n"
     ]
    }
   ],
   "source": [
    "pprint(export_json[0], indent=2)"
   ]
  },
  {
   "cell_type": "code",
   "execution_count": 40,
   "metadata": {},
   "outputs": [
    {
     "name": "stdout",
     "output_type": "stream",
     "text": [
      "{ 'butterfly': 2112,\n",
      "  'cat': 1668,\n",
      "  'chicken': 3098,\n",
      "  'cow': 1866,\n",
      "  'dog': 4863,\n",
      "  'elephant': 1446,\n",
      "  'horse': 2623,\n",
      "  'sheep': 1820,\n",
      "  'spider': 4821,\n",
      "  'squirrel': 1862}\n",
      "26179\n"
     ]
    }
   ],
   "source": [
    "#explore metadata fields and global keys\n",
    "global_keys = []\n",
    "for data in export_json:\n",
    "    global_key = data[\"data_row\"][\"global_key\"]\n",
    "    if not global_key:\n",
    "        print(f\"Global Key Missing: {data['data_row']['external_id']}\")\n",
    "        continue\n",
    "    global_keys.append(global_key)\n",
    "class_dict = {}\n",
    "for data in export_json:\n",
    "    class_name = data[\"metadata_fields\"][0][\"value\"][0][\"schema_name\"]\n",
    "    class_dict[class_name] = class_dict.get(class_name, 0) + 1\n",
    "\n",
    "pprint(class_dict, indent=2)\n",
    "print(sum(class_dict.values()))"
   ]
  },
  {
   "cell_type": "code",
   "execution_count": null,
   "metadata": {},
   "outputs": [],
   "source": []
  }
 ],
 "metadata": {
  "kernelspec": {
   "display_name": "TF",
   "language": "python",
   "name": "python3"
  },
  "language_info": {
   "codemirror_mode": {
    "name": "ipython",
    "version": 3
   },
   "file_extension": ".py",
   "mimetype": "text/x-python",
   "name": "python",
   "nbconvert_exporter": "python",
   "pygments_lexer": "ipython3",
   "version": "3.11.6"
  }
 },
 "nbformat": 4,
 "nbformat_minor": 2
}
