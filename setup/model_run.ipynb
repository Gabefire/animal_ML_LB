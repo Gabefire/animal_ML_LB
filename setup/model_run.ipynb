{
 "cells": [
  {
   "cell_type": "code",
   "execution_count": null,
   "metadata": {},
   "outputs": [],
   "source": [
    "import labelbox as lb\n",
    "from API_key_personal import PERSONAL_API_KEY\n",
    "import os\n",
    "\n",
    "client = lb.Client(PERSONAL_API_KEY)"
   ]
  },
  {
   "cell_type": "code",
   "execution_count": null,
   "metadata": {},
   "outputs": [],
   "source": [
    "PROJECT_ID = \"clqsva8cw1qk407wn7vpy9xn5\""
   ]
  },
  {
   "cell_type": "code",
   "execution_count": null,
   "metadata": {},
   "outputs": [],
   "source": [
    "#Export data rows that are done\n",
    "project = client.get_project(PROJECT_ID)\n",
    "\n",
    "export  = project.export_v2(filters={\"workflow_status\":\"Done\"})\n",
    "\n",
    "export_json = export.result\n",
    "\n",
    "print(len(export_json))"
   ]
  },
  {
   "cell_type": "code",
   "execution_count": null,
   "metadata": {},
   "outputs": [],
   "source": [
    "#Get ontology\n",
    "\n",
    "ontology = project.ontology()\n",
    "\n",
    "print(ontology.uid)"
   ]
  },
  {
   "cell_type": "code",
   "execution_count": null,
   "metadata": {},
   "outputs": [],
   "source": [
    "#Create model\n",
    "\n",
    "model = client.create_model(name=\"Animal_ML\", ontology_id=project.ontology().uid)"
   ]
  },
  {
   "cell_type": "code",
   "execution_count": null,
   "metadata": {},
   "outputs": [],
   "source": [
    "#Create model run\n",
    "\n",
    "client.enable_experimental = True\n",
    "\n",
    "model_run = model.create_model_run(name=\"run_1\")"
   ]
  },
  {
   "cell_type": "code",
   "execution_count": null,
   "metadata": {},
   "outputs": [],
   "source": [
    "model_run._upsert_labels_by_project_id(project_id=project.uid, timeout_seconds=6000)"
   ]
  }
 ],
 "metadata": {
  "kernelspec": {
   "display_name": "animal_ml",
   "language": "python",
   "name": "python3"
  },
  "language_info": {
   "codemirror_mode": {
    "name": "ipython",
    "version": 3
   },
   "file_extension": ".py",
   "mimetype": "text/x-python",
   "name": "python",
   "nbconvert_exporter": "python",
   "pygments_lexer": "ipython3",
   "version": "3.10.13"
  }
 },
 "nbformat": 4,
 "nbformat_minor": 2
}
