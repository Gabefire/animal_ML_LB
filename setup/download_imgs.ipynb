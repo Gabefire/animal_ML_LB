{
 "cells": [
  {
   "cell_type": "code",
   "execution_count": 1,
   "metadata": {},
   "outputs": [],
   "source": [
    "import os\n",
    "import io\n",
    "import boto3\n",
    "from PIL import Image\n",
    "import numpy as np\n",
    "from tqdm import tqdm\n",
    "from multiprocessing import Pool\n",
    "import labelbox as lb\n",
    "from API_key_personal import PERSONAL_API_KEY\n",
    "from threading_callback import threading_callback\n",
    "\n",
    "client = lb.Client(PERSONAL_API_KEY)\n",
    "\n",
    "PROJECT_ID = \"clqsva8cw1qk407wn7vpy9xn5\"\n",
    "IMG_SIZE = 64"
   ]
  },
  {
   "cell_type": "code",
   "execution_count": 2,
   "metadata": {},
   "outputs": [],
   "source": [
    "project = client.get_project(PROJECT_ID)"
   ]
  },
  {
   "cell_type": "code",
   "execution_count": 3,
   "metadata": {},
   "outputs": [],
   "source": [
    "export_params= {\n",
    "  \"attachments\": False,\n",
    "  \"metadata_fields\": False,\n",
    "  \"data_row_details\": True,\n",
    "  \"project_details\": True,\n",
    "  \"performance_details\": True\n",
    "}\n",
    "\n",
    "export_task = project.export_v2(params=export_params)\n",
    "export_task.wait_till_done()\n",
    "\n",
    "if export_task.errors:\n",
    "    print(export_task.errors)\n",
    "\n",
    "export_json = export_task.result"
   ]
  },
  {
   "cell_type": "code",
   "execution_count": 4,
   "metadata": {},
   "outputs": [
    {
     "name": "stdout",
     "output_type": "stream",
     "text": [
      "10\n"
     ]
    }
   ],
   "source": [
    "if not os.path.exists(\"../numpy\"):\n",
    "        os.mkdir(\"../numpy\")\n",
    "\n",
    "core_count = os.cpu_count()\n",
    "\n",
    "print(core_count)\n",
    "\n",
    "with Pool(core_count-2) as executer:\n",
    "    results = executer.map(threading_callback, export_json)"
   ]
  }
 ],
 "metadata": {
  "kernelspec": {
   "display_name": "animal_ml",
   "language": "python",
   "name": "python3"
  },
  "language_info": {
   "codemirror_mode": {
    "name": "ipython",
    "version": 3
   },
   "file_extension": ".py",
   "mimetype": "text/x-python",
   "name": "python",
   "nbconvert_exporter": "python",
   "pygments_lexer": "ipython3",
   "version": "3.10.13"
  }
 },
 "nbformat": 4,
 "nbformat_minor": 2
}
