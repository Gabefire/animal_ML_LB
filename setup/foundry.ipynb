{
 "cells": [
  {
   "cell_type": "code",
   "execution_count": 2,
   "metadata": {},
   "outputs": [],
   "source": [
    "import labelbox as lb\n",
    "from API_key_personal import PERSONAL_API_KEY\n",
    "import os\n",
    "\n",
    "client = lb.Client(PERSONAL_API_KEY)"
   ]
  },
  {
   "cell_type": "code",
   "execution_count": 10,
   "metadata": {},
   "outputs": [],
   "source": [
    "PROJECT_ID = \"clqrd251c1qri07uyfpyzg2ve\"\n",
    "DATASET_ID = \"clqr6pm85007s0752h3benctu\"\n",
    "APP_ID = \"6a9172ef-589b-4e81-ac69-7c2542b4bf08\""
   ]
  },
  {
   "cell_type": "code",
   "execution_count": 11,
   "metadata": {},
   "outputs": [],
   "source": [
    "dataset = client.get_dataset(DATASET_ID)"
   ]
  },
  {
   "cell_type": "code",
   "execution_count": 12,
   "metadata": {},
   "outputs": [],
   "source": [
    "data_rows = dataset.export_v2()\n",
    "global_keys = []\n",
    "\n",
    "export_json = data_rows.result"
   ]
  },
  {
   "cell_type": "code",
   "execution_count": 15,
   "metadata": {},
   "outputs": [],
   "source": [
    "from pprint import pprint\n",
    "for data_row in export_json:\n",
    "    global_keys.append(data_row[\"data_row\"][\"global_key\"])"
   ]
  },
  {
   "cell_type": "code",
   "execution_count": 16,
   "metadata": {},
   "outputs": [],
   "source": [
    "import uuid\n",
    "task = client.run_foundry_app(model_run_name=f\"CLIP-{str(uuid.uuid4())}\",\n",
    "                              data_rows=lb.GlobalKeys(\n",
    "                                  global_keys # Provide a list of global keys \n",
    "                                  ), \n",
    "                              app_id=APP_ID)\n",
    "\n",
    "task.wait_till_done(6000)\n",
    "\n",
    "print(f\"Errors: {task.errors}\") \n",
    "\n",
    "#Obtain model run ID from task\n",
    "MODEL_RUN_ID = task.metadata[\"modelRunId\"]"
   ]
  }
 ],
 "metadata": {
  "kernelspec": {
   "display_name": "animal_ml",
   "language": "python",
   "name": "python3"
  },
  "language_info": {
   "codemirror_mode": {
    "name": "ipython",
    "version": 3
   },
   "file_extension": ".py",
   "mimetype": "text/x-python",
   "name": "python",
   "nbconvert_exporter": "python",
   "pygments_lexer": "ipython3",
   "version": "3.10.13"
  }
 },
 "nbformat": 4,
 "nbformat_minor": 2
}
