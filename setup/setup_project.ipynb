{
 "cells": [
  {
   "cell_type": "code",
   "execution_count": 5,
   "metadata": {},
   "outputs": [],
   "source": [
    "import labelbox as lb\n",
    "from API_key_personal import PERSONAL_API_KEY\n",
    "import os\n",
    "\n",
    "client = lb.Client(PERSONAL_API_KEY)"
   ]
  },
  {
   "cell_type": "code",
   "execution_count": 2,
   "metadata": {},
   "outputs": [],
   "source": [
    "def create_ontology(img_folder_url: str, ontology_name: str, client: lb.Client) -> lb.Ontology:\n",
    "    class_list = os.listdir(f\"{img_folder_url}\")  \n",
    "    ontology_builder = lb.OntologyBuilder(\n",
    "        classifications=[\n",
    "            lb.Classification(class_type=lb.Classification.Type.RADIO,\n",
    "                              name=\"animal_ml_radio\",\n",
    "                              options=[lb.Option(value=item_name) for item_name in class_list])\n",
    "        ]\n",
    "    )\n",
    "    return client.create_ontology(ontology_name,\n",
    "                                  ontology_builder.asdict(),\n",
    "                                  media_type=lb.MediaType.Image)"
   ]
  },
  {
   "cell_type": "code",
   "execution_count": 3,
   "metadata": {},
   "outputs": [],
   "source": [
    "ontology = create_ontology(\"../raw-img\", \"animal_ml\", client)"
   ]
  },
  {
   "cell_type": "code",
   "execution_count": 7,
   "metadata": {},
   "outputs": [
    {
     "name": "stdout",
     "output_type": "stream",
     "text": [
      "clqsva8cw1qk407wn7vpy9xn5\n"
     ]
    }
   ],
   "source": [
    "project = client.create_project(name=\"Animal_ML\", media_type=lb.MediaType.Image)\n",
    "\n",
    "project.setup_editor(ontology)\n",
    "\n",
    "print(project.uid)"
   ]
  }
 ],
 "metadata": {
  "kernelspec": {
   "display_name": "animal_ml",
   "language": "python",
   "name": "python3"
  },
  "language_info": {
   "codemirror_mode": {
    "name": "ipython",
    "version": 3
   },
   "file_extension": ".py",
   "mimetype": "text/x-python",
   "name": "python",
   "nbconvert_exporter": "python",
   "pygments_lexer": "ipython3",
   "version": "3.10.13"
  }
 },
 "nbformat": 4,
 "nbformat_minor": 2
}
