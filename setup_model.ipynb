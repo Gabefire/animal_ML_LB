{
 "cells": [
  {
   "cell_type": "code",
   "execution_count": 62,
   "metadata": {},
   "outputs": [],
   "source": [
    "import labelbox as lb\n",
    "from dotenv import load_dotenv, find_dotenv\n",
    "import random\n",
    "\n",
    "_=load_dotenv(find_dotenv())\n",
    "\n",
    "client = lb.Client()\n",
    "\n",
    "model_name = \"Animal_Model\"\n",
    "\n",
    "client.enable_experimental = True\n"
   ]
  },
  {
   "cell_type": "code",
   "execution_count": 63,
   "metadata": {},
   "outputs": [],
   "source": [
    "model = client.get_models(where=(lb.Model.name == model_name)).get_one()\n",
    "if not model:\n",
    "    proj: lb.Project = client.get_project(\"clp7euycs059o0703gmcug1re\")\n",
    "    ontology: lb.Ontology = proj.ontology()\n",
    "    model = client.create_model(\n",
    "        name=model_name,\n",
    "        ontology_id=ontology.uid,\n",
    "        )"
   ]
  },
  {
   "cell_type": "code",
   "execution_count": 64,
   "metadata": {},
   "outputs": [],
   "source": [
    "model_run_name = \"model_run_1\"\n",
    "model_run = \"\""
   ]
  },
  {
   "cell_type": "code",
   "execution_count": 65,
   "metadata": {},
   "outputs": [],
   "source": [
    "model_runs: list[lb.ModelRun] = model.model_runs()\n",
    "exists = False\n",
    "for model_run_check in model_runs:\n",
    "    if model_run_check.name == model_run_name:\n",
    "        model_run = model_run_check\n",
    "        exists = True\n",
    "        break\n",
    "\n",
    "if not exists:\n",
    "    model_run = model.create_model_run(\n",
    "        name=model_run_name,\n",
    "        config= {\n",
    "            \"image_size\": 32,\n",
    "            \"activation\": \"relu\",\n",
    "            \"optimizer\": \"adam\"\n",
    "        }\n",
    "    )"
   ]
  },
  {
   "cell_type": "code",
   "execution_count": 66,
   "metadata": {},
   "outputs": [
    {
     "name": "stdout",
     "output_type": "stream",
     "text": [
      "model_run_1\n",
      "{'optimizer': 'adam', 'activation': 'relu', 'image_size': 32}\n"
     ]
    }
   ],
   "source": [
    "print(model_run.name)\n",
    "print(model_run.get_config())"
   ]
  },
  {
   "cell_type": "code",
   "execution_count": 78,
   "metadata": {},
   "outputs": [
    {
     "name": "stdout",
     "output_type": "stream",
     "text": [
      "22179 3000 1000\n"
     ]
    }
   ],
   "source": [
    "batches: list[lb.Batch] = proj.batches()\n",
    "\n",
    "train = []\n",
    "test = []\n",
    "validation = []\n",
    "data_row_ids = []\n",
    "\n",
    "for batch in batches:\n",
    "    data_rows: list[lb.DataRow] = batch.export_data_rows(include_metadata=True)\n",
    "    global_keys = []\n",
    "    for data_row in list(data_rows):\n",
    "        global_keys.append(data_row.global_key)\n",
    "        data_row_ids.append(data_row.uid)\n",
    "    random.shuffle(global_keys)\n",
    "    for i, global_key in enumerate(global_keys[:300]):\n",
    "        test.append(global_key)\n",
    "        global_keys.pop(i)\n",
    "    for i, global_key in enumerate(global_keys[:100]):\n",
    "        validation.append(global_key)\n",
    "        global_keys.pop(i)\n",
    "    train.extend(global_keys)\n",
    "\n",
    "print(len(train), len(test), len(validation))\n",
    "\n",
    "    \n",
    "    "
   ]
  },
  {
   "cell_type": "code",
   "execution_count": 81,
   "metadata": {},
   "outputs": [
    {
     "data": {
      "text/plain": [
       "True"
      ]
     },
     "execution_count": 81,
     "metadata": {},
     "output_type": "execute_result"
    }
   ],
   "source": [
    "model_run.upsert_labels(project_id=proj.uid)"
   ]
  },
  {
   "cell_type": "code",
   "execution_count": 84,
   "metadata": {},
   "outputs": [
    {
     "name": "stdout",
     "output_type": "stream",
     "text": [
      "22179 3000 1000\n"
     ]
    },
    {
     "data": {
      "text/plain": [
       "True"
      ]
     },
     "execution_count": 84,
     "metadata": {},
     "output_type": "execute_result"
    }
   ],
   "source": [
    "client.enable_experimental = True\n",
    "print(len(train), len(test), len(validation))\n",
    "\n",
    "model_run.assign_data_rows_to_split(\n",
    "    global_keys=train,\n",
    "    split=\"TRAINING\",\n",
    ")\n",
    "\n",
    "model_run.assign_data_rows_to_split(\n",
    "    global_keys=test,\n",
    "    split=\"TEST\",\n",
    ")\n",
    "\n",
    "model_run.assign_data_rows_to_split(\n",
    "    global_keys=validation,\n",
    "    split=\"VALIDATION\",\n",
    ")"
   ]
  }
 ],
 "metadata": {
  "kernelspec": {
   "display_name": "TF",
   "language": "python",
   "name": "python3"
  },
  "language_info": {
   "codemirror_mode": {
    "name": "ipython",
    "version": 3
   },
   "file_extension": ".py",
   "mimetype": "text/x-python",
   "name": "python",
   "nbconvert_exporter": "python",
   "pygments_lexer": "ipython3",
   "version": "3.11.6"
  }
 },
 "nbformat": 4,
 "nbformat_minor": 2
}
