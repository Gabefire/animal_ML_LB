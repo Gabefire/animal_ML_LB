{
 "cells": [
  {
   "cell_type": "code",
   "execution_count": 1,
   "metadata": {},
   "outputs": [],
   "source": [
    "import os\n",
    "from dotenv import load_dotenv, find_dotenv\n",
    "import tensorflow as tf\n",
    "import labelbox as lb\n",
    "from pprint import pprint\n",
    "import json\n",
    "\n",
    "from tensorflow.keras import layers, models\n",
    "import tensorflow as tf\n",
    "import matplotlib.pyplot as plt\n",
    "import urllib.request\n",
    "from PIL import Image\n",
    "import numpy as np\n",
    "import PIL\n",
    "\n",
    "_=load_dotenv(find_dotenv())"
   ]
  },
  {
   "cell_type": "code",
   "execution_count": 2,
   "metadata": {},
   "outputs": [],
   "source": [
    "client = lb.Client()"
   ]
  },
  {
   "cell_type": "code",
   "execution_count": 3,
   "metadata": {},
   "outputs": [],
   "source": [
    "proj = client.get_project(\"clp7euycs059o0703gmcug1re\")\n",
    "model_run = client.get_model_run(\"a2fcc7cf-44df-0830-c56c-a0d2feec7ce0\")"
   ]
  },
  {
   "cell_type": "code",
   "execution_count": 5,
   "metadata": {},
   "outputs": [],
   "source": [
    "export_params= {\n",
    "  \"attachments\": False,\n",
    "  \"metadata_fields\": False,\n",
    "  \"data_row_details\": True,\n",
    "  \"project_details\": True,\n",
    "  \"performance_details\": True\n",
    "}\n",
    "\n",
    "export_task = model_run.export_v2(params=export_params)\n",
    "export_task.wait_till_done()\n",
    "\n",
    "if export_task.errors:\n",
    "    print(export_task.errors)\n",
    "\n",
    "export_json = export_task.result"
   ]
  },
  {
   "cell_type": "code",
   "execution_count": 8,
   "metadata": {},
   "outputs": [
    {
     "name": "stdout",
     "output_type": "stream",
     "text": [
      "'./raw-img/farfalla/OIP-nXp3D3FO22tV6SLkEFEtsAHaE7.jpeg'\n",
      "'farfalla'\n"
     ]
    }
   ],
   "source": [
    "pprint(export_json[0][\"data_row\"][\"external_id\"]) #Image\n",
    "pprint(export_json[\"experiments\"][\"a2ec9b4a-7a70-023d-3786-88922ffc970c\"][\"runs\"][\"a2fcc7cf-44df-0830-c56c-a0d2feec7ce0\"][\"labels\"][0][\"annotations\"][\"classifications\"][0][\"checklist_answers\"][0][\"name\"]) #label"
   ]
  },
  {
   "cell_type": "code",
   "execution_count": 12,
   "metadata": {},
   "outputs": [],
   "source": [
    "client.enable_experimental = True\n",
    "\n",
    "config = model_run.get_config()\n",
    "IMG_SIZE = config[\"image_size\"]"
   ]
  },
  {
   "cell_type": "code",
   "execution_count": 13,
   "metadata": {},
   "outputs": [],
   "source": [
    "def get_img(data):\n",
    "  img = data[\"data_row\"][\"external_id\"]\n",
    "  label = data[\"experiments\"][\"a2ec9b4a-7a70-023d-3786-88922ffc970c\"][\"runs\"][\"a2fcc7cf-44df-0830-c56c-a0d2feec7ce0\"][\"labels\"][0][\"annotations\"][\"classifications\"][0][\"checklist_answers\"][0][\"name\"]\n",
    "  img = Image.open(img)\n",
    "  return img, label"
   ]
  },
  {
   "cell_type": "code",
   "execution_count": 15,
   "metadata": {},
   "outputs": [],
   "source": [
    "imgs, labels = [], []\n",
    "for i, data in enumerate(export_json):\n",
    "  img, label = get_img(data)\n",
    "  img = img.resize((IMG_SIZE, IMG_SIZE))\n",
    "  img = np.asarray(img, dtype=np.float32) / 255\n",
    "  if img.shape != (IMG_SIZE,IMG_SIZE,3):\n",
    "    continue\n",
    "  imgs.append(img)\n",
    "  labels.append(label)\n"
   ]
  },
  {
   "cell_type": "code",
   "execution_count": 16,
   "metadata": {},
   "outputs": [
    {
     "name": "stdout",
     "output_type": "stream",
     "text": [
      "farfalla\n"
     ]
    },
    {
     "data": {
      "image/png": "[encoded data removed]",
      "text/plain": [
       "<Figure size 640x480 with 1 Axes>"
      ]
     },
     "metadata": {},
     "output_type": "display_data"
    }
   ],
   "source": [
    "plt.imshow(imgs[80])\n",
    "print(labels[80])"
   ]
  },
  {
   "cell_type": "code",
   "execution_count": null,
   "metadata": {},
   "outputs": [],
   "source": [
    "class_name = list(set(labels))"
   ]
  }
 ],
 "metadata": {
  "kernelspec": {
   "display_name": "TF",
   "language": "python",
   "name": "python3"
  },
  "language_info": {
   "codemirror_mode": {
    "name": "ipython",
    "version": 3
   },
   "file_extension": ".py",
   "mimetype": "text/x-python",
   "name": "python",
   "nbconvert_exporter": "python",
   "pygments_lexer": "ipython3",
   "version": "3.11.6"
  }
 },
 "nbformat": 4,
 "nbformat_minor": 2
}
